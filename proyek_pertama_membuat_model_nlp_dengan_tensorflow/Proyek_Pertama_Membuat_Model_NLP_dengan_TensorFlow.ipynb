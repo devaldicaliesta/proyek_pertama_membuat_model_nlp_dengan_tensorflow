{
  "nbformat": 4,
  "nbformat_minor": 0,
  "metadata": {
    "colab": {
      "name": "Proyek Pertama : Membuat Model NLP dengan TensorFlow.ipynb",
      "provenance": [],
      "collapsed_sections": []
    },
    "kernelspec": {
      "name": "python3",
      "display_name": "Python 3"
    },
    "language_info": {
      "name": "python"
    }
  },
  "cells": [
    {
      "cell_type": "markdown",
      "metadata": {
        "id": "zIMmZeM1eNMd"
      },
      "source": [
        "Nama : Devaldi Caliesta Octadiani \\\n",
        "Email : devaldicaliesta20@gmail.com \\\n",
        "Alamat Domisili : Kabupaten Bantul, Daerah Istimewa Yogyakarta, 55187\n"
      ]
    },
    {
      "cell_type": "code",
      "metadata": {
        "id": "go7hqs5ueQeO"
      },
      "source": [
        "# Menyiapkan Library yang dibutuhkan\n",
        "import numpy as np\n",
        "import pandas as pd\n",
        "import tensorflow as tf\n",
        "import matplotlib.pyplot as plt\n",
        "import re\n",
        "import nltk\n",
        "\n",
        "from nltk.tokenize import word_tokenize\n",
        "from sklearn.model_selection import train_test_split\n",
        "from tensorflow.keras.preprocessing.text import Tokenizer\n",
        "from tensorflow.keras.preprocessing.sequence import pad_sequences\n",
        "from nltk.corpus import stopwords\n",
        "from nltk.stem.porter import PorterStemmer"
      ],
      "execution_count": null,
      "outputs": []
    },
    {
      "cell_type": "code",
      "metadata": {
        "colab": {
          "base_uri": "https://localhost:8080/",
          "height": 206
        },
        "id": "J9oUeXwveVBJ",
        "outputId": "74063414-61ce-4b49-c485-420522bd0dd2"
      },
      "source": [
        "# melihat dataset\n",
        "df = pd.read_csv('bbc-news-data.csv', sep=\"\\t\") \n",
        "df.head()"
      ],
      "execution_count": null,
      "outputs": [
        {
          "output_type": "execute_result",
          "data": {
            "text/html": [
              "<div>\n",
              "<style scoped>\n",
              "    .dataframe tbody tr th:only-of-type {\n",
              "        vertical-align: middle;\n",
              "    }\n",
              "\n",
              "    .dataframe tbody tr th {\n",
              "        vertical-align: top;\n",
              "    }\n",
              "\n",
              "    .dataframe thead th {\n",
              "        text-align: right;\n",
              "    }\n",
              "</style>\n",
              "<table border=\"1\" class=\"dataframe\">\n",
              "  <thead>\n",
              "    <tr style=\"text-align: right;\">\n",
              "      <th></th>\n",
              "      <th>category</th>\n",
              "      <th>filename</th>\n",
              "      <th>title</th>\n",
              "      <th>content</th>\n",
              "    </tr>\n",
              "  </thead>\n",
              "  <tbody>\n",
              "    <tr>\n",
              "      <th>0</th>\n",
              "      <td>business</td>\n",
              "      <td>001.txt</td>\n",
              "      <td>Ad sales boost Time Warner profit</td>\n",
              "      <td>Quarterly profits at US media giant TimeWarne...</td>\n",
              "    </tr>\n",
              "    <tr>\n",
              "      <th>1</th>\n",
              "      <td>business</td>\n",
              "      <td>002.txt</td>\n",
              "      <td>Dollar gains on Greenspan speech</td>\n",
              "      <td>The dollar has hit its highest level against ...</td>\n",
              "    </tr>\n",
              "    <tr>\n",
              "      <th>2</th>\n",
              "      <td>business</td>\n",
              "      <td>003.txt</td>\n",
              "      <td>Yukos unit buyer faces loan claim</td>\n",
              "      <td>The owners of embattled Russian oil giant Yuk...</td>\n",
              "    </tr>\n",
              "    <tr>\n",
              "      <th>3</th>\n",
              "      <td>business</td>\n",
              "      <td>004.txt</td>\n",
              "      <td>High fuel prices hit BA's profits</td>\n",
              "      <td>British Airways has blamed high fuel prices f...</td>\n",
              "    </tr>\n",
              "    <tr>\n",
              "      <th>4</th>\n",
              "      <td>business</td>\n",
              "      <td>005.txt</td>\n",
              "      <td>Pernod takeover talk lifts Domecq</td>\n",
              "      <td>Shares in UK drinks and food firm Allied Dome...</td>\n",
              "    </tr>\n",
              "  </tbody>\n",
              "</table>\n",
              "</div>"
            ],
            "text/plain": [
              "   category  ...                                            content\n",
              "0  business  ...   Quarterly profits at US media giant TimeWarne...\n",
              "1  business  ...   The dollar has hit its highest level against ...\n",
              "2  business  ...   The owners of embattled Russian oil giant Yuk...\n",
              "3  business  ...   British Airways has blamed high fuel prices f...\n",
              "4  business  ...   Shares in UK drinks and food firm Allied Dome...\n",
              "\n",
              "[5 rows x 4 columns]"
            ]
          },
          "metadata": {},
          "execution_count": 24
        }
      ]
    },
    {
      "cell_type": "code",
      "metadata": {
        "colab": {
          "base_uri": "https://localhost:8080/"
        },
        "id": "5cc28Jt_ejk5",
        "outputId": "45560c6f-590a-4adc-f4e3-92cf9f579ddd"
      },
      "source": [
        "# melihat info data\n",
        "df.info()"
      ],
      "execution_count": null,
      "outputs": [
        {
          "output_type": "stream",
          "name": "stdout",
          "text": [
            "<class 'pandas.core.frame.DataFrame'>\n",
            "RangeIndex: 2225 entries, 0 to 2224\n",
            "Data columns (total 4 columns):\n",
            " #   Column    Non-Null Count  Dtype \n",
            "---  ------    --------------  ----- \n",
            " 0   category  2225 non-null   object\n",
            " 1   filename  2225 non-null   object\n",
            " 2   title     2225 non-null   object\n",
            " 3   content   2225 non-null   object\n",
            "dtypes: object(4)\n",
            "memory usage: 69.7+ KB\n"
          ]
        }
      ]
    },
    {
      "cell_type": "code",
      "metadata": {
        "colab": {
          "base_uri": "https://localhost:8080/"
        },
        "id": "_0QxH6zgelro",
        "outputId": "793425e5-755a-4ced-a10f-93301042d114"
      },
      "source": [
        "# melihat missing value\n",
        "df.isna().sum()"
      ],
      "execution_count": null,
      "outputs": [
        {
          "output_type": "execute_result",
          "data": {
            "text/plain": [
              "category    0\n",
              "filename    0\n",
              "title       0\n",
              "content     0\n",
              "dtype: int64"
            ]
          },
          "metadata": {},
          "execution_count": 26
        }
      ]
    },
    {
      "cell_type": "code",
      "metadata": {
        "colab": {
          "base_uri": "https://localhost:8080/",
          "height": 206
        },
        "id": "peBykVAGf13l",
        "outputId": "657ef486-a36f-40ac-e5ff-f97a32fcbf77"
      },
      "source": [
        "# Drop data yang tidak dibutuhkan\n",
        "df_new = df.drop(['filename'], axis=1)\n",
        "\n",
        "df_new.head()"
      ],
      "execution_count": null,
      "outputs": [
        {
          "output_type": "execute_result",
          "data": {
            "text/html": [
              "<div>\n",
              "<style scoped>\n",
              "    .dataframe tbody tr th:only-of-type {\n",
              "        vertical-align: middle;\n",
              "    }\n",
              "\n",
              "    .dataframe tbody tr th {\n",
              "        vertical-align: top;\n",
              "    }\n",
              "\n",
              "    .dataframe thead th {\n",
              "        text-align: right;\n",
              "    }\n",
              "</style>\n",
              "<table border=\"1\" class=\"dataframe\">\n",
              "  <thead>\n",
              "    <tr style=\"text-align: right;\">\n",
              "      <th></th>\n",
              "      <th>category</th>\n",
              "      <th>title</th>\n",
              "      <th>content</th>\n",
              "    </tr>\n",
              "  </thead>\n",
              "  <tbody>\n",
              "    <tr>\n",
              "      <th>0</th>\n",
              "      <td>business</td>\n",
              "      <td>Ad sales boost Time Warner profit</td>\n",
              "      <td>Quarterly profits at US media giant TimeWarne...</td>\n",
              "    </tr>\n",
              "    <tr>\n",
              "      <th>1</th>\n",
              "      <td>business</td>\n",
              "      <td>Dollar gains on Greenspan speech</td>\n",
              "      <td>The dollar has hit its highest level against ...</td>\n",
              "    </tr>\n",
              "    <tr>\n",
              "      <th>2</th>\n",
              "      <td>business</td>\n",
              "      <td>Yukos unit buyer faces loan claim</td>\n",
              "      <td>The owners of embattled Russian oil giant Yuk...</td>\n",
              "    </tr>\n",
              "    <tr>\n",
              "      <th>3</th>\n",
              "      <td>business</td>\n",
              "      <td>High fuel prices hit BA's profits</td>\n",
              "      <td>British Airways has blamed high fuel prices f...</td>\n",
              "    </tr>\n",
              "    <tr>\n",
              "      <th>4</th>\n",
              "      <td>business</td>\n",
              "      <td>Pernod takeover talk lifts Domecq</td>\n",
              "      <td>Shares in UK drinks and food firm Allied Dome...</td>\n",
              "    </tr>\n",
              "  </tbody>\n",
              "</table>\n",
              "</div>"
            ],
            "text/plain": [
              "   category  ...                                            content\n",
              "0  business  ...   Quarterly profits at US media giant TimeWarne...\n",
              "1  business  ...   The dollar has hit its highest level against ...\n",
              "2  business  ...   The owners of embattled Russian oil giant Yuk...\n",
              "3  business  ...   British Airways has blamed high fuel prices f...\n",
              "4  business  ...   Shares in UK drinks and food firm Allied Dome...\n",
              "\n",
              "[5 rows x 3 columns]"
            ]
          },
          "metadata": {},
          "execution_count": 27
        }
      ]
    },
    {
      "cell_type": "code",
      "metadata": {
        "id": "rcj-7OVheoWd"
      },
      "source": [
        "# menghilangkan tanda baca & angka pada coloumn content\n",
        "def remove_punctuations_numbers(inputs):\n",
        "    return re.sub(r'[^a-zA-Z]', ' ', inputs)\n",
        "\n",
        "\n",
        "df_new['content'] = df['content'].apply(remove_punctuations_numbers)"
      ],
      "execution_count": null,
      "outputs": []
    },
    {
      "cell_type": "code",
      "metadata": {
        "id": "0w1-VbLkboLB"
      },
      "source": [
        "def data_cleaner(review):\n",
        "   #removing stop words\n",
        "    review = review.split()\n",
        "    review = \" \".join([word for word in review if not word in stop_words])\n",
        "\n",
        "    return review\n",
        "\n",
        "ps = PorterStemmer()\n",
        "stop_words = stopwords.words('english')\n",
        "\n",
        "df_new['content'] = df_new['content'].apply(data_cleaner)"
      ],
      "execution_count": null,
      "outputs": []
    },
    {
      "cell_type": "code",
      "metadata": {
        "colab": {
          "base_uri": "https://localhost:8080/",
          "height": 206
        },
        "id": "PZ0SC_F4fzME",
        "outputId": "261d755c-28fb-4903-d06f-6585a5670470"
      },
      "source": [
        "# mengecek data yang telah di prepocessing\n",
        "df_new.head()"
      ],
      "execution_count": null,
      "outputs": [
        {
          "output_type": "execute_result",
          "data": {
            "text/html": [
              "<div>\n",
              "<style scoped>\n",
              "    .dataframe tbody tr th:only-of-type {\n",
              "        vertical-align: middle;\n",
              "    }\n",
              "\n",
              "    .dataframe tbody tr th {\n",
              "        vertical-align: top;\n",
              "    }\n",
              "\n",
              "    .dataframe thead th {\n",
              "        text-align: right;\n",
              "    }\n",
              "</style>\n",
              "<table border=\"1\" class=\"dataframe\">\n",
              "  <thead>\n",
              "    <tr style=\"text-align: right;\">\n",
              "      <th></th>\n",
              "      <th>category</th>\n",
              "      <th>title</th>\n",
              "      <th>content</th>\n",
              "    </tr>\n",
              "  </thead>\n",
              "  <tbody>\n",
              "    <tr>\n",
              "      <th>0</th>\n",
              "      <td>business</td>\n",
              "      <td>Ad sales boost Time Warner profit</td>\n",
              "      <td>Quarterly profits US media giant TimeWarner ju...</td>\n",
              "    </tr>\n",
              "    <tr>\n",
              "      <th>1</th>\n",
              "      <td>business</td>\n",
              "      <td>Dollar gains on Greenspan speech</td>\n",
              "      <td>The dollar hit highest level euro almost three...</td>\n",
              "    </tr>\n",
              "    <tr>\n",
              "      <th>2</th>\n",
              "      <td>business</td>\n",
              "      <td>Yukos unit buyer faces loan claim</td>\n",
              "      <td>The owners embattled Russian oil giant Yukos a...</td>\n",
              "    </tr>\n",
              "    <tr>\n",
              "      <th>3</th>\n",
              "      <td>business</td>\n",
              "      <td>High fuel prices hit BA's profits</td>\n",
              "      <td>British Airways blamed high fuel prices drop p...</td>\n",
              "    </tr>\n",
              "    <tr>\n",
              "      <th>4</th>\n",
              "      <td>business</td>\n",
              "      <td>Pernod takeover talk lifts Domecq</td>\n",
              "      <td>Shares UK drinks food firm Allied Domecq risen...</td>\n",
              "    </tr>\n",
              "  </tbody>\n",
              "</table>\n",
              "</div>"
            ],
            "text/plain": [
              "   category  ...                                            content\n",
              "0  business  ...  Quarterly profits US media giant TimeWarner ju...\n",
              "1  business  ...  The dollar hit highest level euro almost three...\n",
              "2  business  ...  The owners embattled Russian oil giant Yukos a...\n",
              "3  business  ...  British Airways blamed high fuel prices drop p...\n",
              "4  business  ...  Shares UK drinks food firm Allied Domecq risen...\n",
              "\n",
              "[5 rows x 3 columns]"
            ]
          },
          "metadata": {},
          "execution_count": 30
        }
      ]
    },
    {
      "cell_type": "code",
      "metadata": {
        "id": "COWHV1yjgZY6"
      },
      "source": [
        "# melakukan split data\n",
        "news = list(df.content)\n",
        "label = list(df.category)"
      ],
      "execution_count": null,
      "outputs": []
    },
    {
      "cell_type": "code",
      "metadata": {
        "id": "M8ivhHc-gcJE"
      },
      "source": [
        "#bagi data untuk training dan data untuk testing.\n",
        "news_train, news_test, label_train, label_test = train_test_split(news, label, train_size = 0.8, random_state = 42, shuffle = True)"
      ],
      "execution_count": null,
      "outputs": []
    },
    {
      "cell_type": "code",
      "metadata": {
        "id": "i3Lwv4s7sDqO"
      },
      "source": [
        "vocab_size = 10000\n",
        "embedding_dim = 32\n",
        "max_length = 256\n",
        "padding_type='post'"
      ],
      "execution_count": null,
      "outputs": []
    },
    {
      "cell_type": "code",
      "metadata": {
        "id": "7yHnV7gTgjKN"
      },
      "source": [
        "# melakukan tokenize\n",
        "tokenizer = Tokenizer(num_words = vocab_size, oov_token=\"<OOV>\")\n",
        "tokenizer.fit_on_texts(news_train)\n",
        "word_index = tokenizer.word_index\n",
        "\n",
        "news_train_sqncs = tokenizer.texts_to_sequences(news_train)\n",
        "news_train_padded = pad_sequences(news_train_sqncs, padding=padding_type, maxlen=max_length)\n",
        "\n",
        "news_test_sqncs = tokenizer.texts_to_sequences(news_test)\n",
        "news_test_padded = pad_sequences(news_test_sqncs, padding=padding_type, maxlen=max_length)\n",
        "\n",
        "category_tokenizer = Tokenizer()\n",
        "category_tokenizer.fit_on_texts(df.category)\n",
        "category_index = category_tokenizer.word_index\n",
        "\n",
        "label_train_label_sqncs = np.array(category_tokenizer.texts_to_sequences(y_train))\n",
        "label_test_label_sqncs = np.array(category_tokenizer.texts_to_sequences(y_test))"
      ],
      "execution_count": null,
      "outputs": []
    },
    {
      "cell_type": "code",
      "metadata": {
        "colab": {
          "base_uri": "https://localhost:8080/"
        },
        "id": "sKL_Zp59grD-",
        "outputId": "ba46b64f-cd76-475b-b324-9eb6048e93a3"
      },
      "source": [
        "# melakukan arsitektur model kita menggunakan layer Embedding\n",
        "model = tf.keras.Sequential([\n",
        "    tf.keras.layers.Embedding(vocab_size, embedding_dim, input_length=max_length),\n",
        "    tf.keras.layers.GlobalAveragePooling1D(),\n",
        "    tf.keras.layers.Dense(128, activation='relu'),\n",
        "    tf.keras.layers.Dense(6, activation='softmax')\n",
        "])\n",
        "model.compile(loss='sparse_categorical_crossentropy',optimizer='adam',metrics=['accuracy'])\n",
        "model.summary()"
      ],
      "execution_count": null,
      "outputs": [
        {
          "output_type": "stream",
          "name": "stdout",
          "text": [
            "Model: \"sequential_5\"\n",
            "_________________________________________________________________\n",
            "Layer (type)                 Output Shape              Param #   \n",
            "=================================================================\n",
            "embedding_5 (Embedding)      (None, 256, 32)           320000    \n",
            "_________________________________________________________________\n",
            "global_average_pooling1d_5 ( (None, 32)                0         \n",
            "_________________________________________________________________\n",
            "dense_10 (Dense)             (None, 128)               4224      \n",
            "_________________________________________________________________\n",
            "dense_11 (Dense)             (None, 6)                 774       \n",
            "=================================================================\n",
            "Total params: 324,998\n",
            "Trainable params: 324,998\n",
            "Non-trainable params: 0\n",
            "_________________________________________________________________\n"
          ]
        }
      ]
    },
    {
      "cell_type": "code",
      "metadata": {
        "colab": {
          "base_uri": "https://localhost:8080/"
        },
        "id": "p7gdrxSqgyww",
        "outputId": "1c3a17e4-e729-4112-84f1-7e1f6cd73420"
      },
      "source": [
        "# melatih model kita dengan memanggil fungsi fit() dan menggunakan callback earlystopping\n",
        "\n",
        "callbacks = tf.keras.callbacks.EarlyStopping(monitor='val_accuracy', mode='max', patience=5,\n",
        "                                                  restore_best_weights=True)\n",
        "\n",
        "num_epochs = 50\n",
        "history = model.fit(news_train_padded, label_train_label_sqncs, epochs=num_epochs, \n",
        "                    validation_data=(news_test_padded, label_test_label_sqncs), \n",
        "                    verbose=2, callbacks=[callbacks], batch_size=32)"
      ],
      "execution_count": null,
      "outputs": [
        {
          "output_type": "stream",
          "name": "stdout",
          "text": [
            "Epoch 1/50\n",
            "56/56 - 1s - loss: 1.7288 - accuracy: 0.2781 - val_loss: 1.6331 - val_accuracy: 0.2921\n",
            "Epoch 2/50\n",
            "56/56 - 0s - loss: 1.5369 - accuracy: 0.4017 - val_loss: 1.4075 - val_accuracy: 0.4697\n",
            "Epoch 3/50\n",
            "56/56 - 0s - loss: 1.2135 - accuracy: 0.6174 - val_loss: 1.0318 - val_accuracy: 0.7326\n",
            "Epoch 4/50\n",
            "56/56 - 0s - loss: 0.7778 - accuracy: 0.8579 - val_loss: 0.6537 - val_accuracy: 0.8966\n",
            "Epoch 5/50\n",
            "56/56 - 0s - loss: 0.4243 - accuracy: 0.9607 - val_loss: 0.4093 - val_accuracy: 0.9258\n",
            "Epoch 6/50\n",
            "56/56 - 0s - loss: 0.2377 - accuracy: 0.9708 - val_loss: 0.2968 - val_accuracy: 0.9236\n",
            "Epoch 7/50\n",
            "56/56 - 0s - loss: 0.1441 - accuracy: 0.9809 - val_loss: 0.2402 - val_accuracy: 0.9371\n",
            "Epoch 8/50\n",
            "56/56 - 0s - loss: 0.0946 - accuracy: 0.9916 - val_loss: 0.2064 - val_accuracy: 0.9528\n",
            "Epoch 9/50\n",
            "56/56 - 0s - loss: 0.0649 - accuracy: 0.9944 - val_loss: 0.1842 - val_accuracy: 0.9483\n",
            "Epoch 10/50\n",
            "56/56 - 0s - loss: 0.0461 - accuracy: 0.9978 - val_loss: 0.1765 - val_accuracy: 0.9506\n",
            "Epoch 11/50\n",
            "56/56 - 0s - loss: 0.0333 - accuracy: 0.9994 - val_loss: 0.1622 - val_accuracy: 0.9528\n",
            "Epoch 12/50\n",
            "56/56 - 0s - loss: 0.0250 - accuracy: 1.0000 - val_loss: 0.1565 - val_accuracy: 0.9506\n",
            "Epoch 13/50\n",
            "56/56 - 0s - loss: 0.0192 - accuracy: 1.0000 - val_loss: 0.1536 - val_accuracy: 0.9506\n"
          ]
        }
      ]
    },
    {
      "cell_type": "code",
      "metadata": {
        "colab": {
          "base_uri": "https://localhost:8080/",
          "height": 421
        },
        "id": "RYlOpg8og_PP",
        "outputId": "d4279fcc-13b1-4290-9ad1-c03811c9f290"
      },
      "source": [
        "#plot accuracy\n",
        "import matplotlib.pyplot as plt\n",
        "plt.figure(figsize=(12,6))\n",
        "plt.plot(history.history['accuracy'])\n",
        "plt.plot(history.history['val_accuracy'])\n",
        "plt.xlabel(\"Epochs\")\n",
        "plt.ylabel('Accuracy')\n",
        "plt.legend(['accuracy', 'val_accuracy'])\n",
        "plt.title('Train and Validation Loss Graphs')"
      ],
      "execution_count": null,
      "outputs": [
        {
          "output_type": "execute_result",
          "data": {
            "text/plain": [
              "Text(0.5, 1.0, 'Train and Validation Loss Graphs')"
            ]
          },
          "metadata": {},
          "execution_count": 54
        },
        {
          "output_type": "display_data",
          "data": {
            "image/png": "[encoded data removed]",
            "text/plain": [
              "<Figure size 864x432 with 1 Axes>"
            ]
          },
          "metadata": {
            "needs_background": "light"
          }
        }
      ]
    },
    {
      "cell_type": "code",
      "metadata": {
        "colab": {
          "base_uri": "https://localhost:8080/",
          "height": 421
        },
        "id": "7VmxWIBKs2Cx",
        "outputId": "31feb169-82b6-4a7d-e1bf-a2c4da669666"
      },
      "source": [
        "#plot loss\n",
        "plt.figure(figsize=(12,6))\n",
        "plt.plot(history.history['loss'])\n",
        "plt.plot(history.history['val_loss'])\n",
        "plt.xlabel(\"Epochs\")\n",
        "plt.ylabel('Loss')\n",
        "plt.legend(['loss', 'val_loss'])\n",
        "plt.title('Train and Validation Accuracy Graphs')"
      ],
      "execution_count": null,
      "outputs": [
        {
          "output_type": "execute_result",
          "data": {
            "text/plain": [
              "Text(0.5, 1.0, 'Train and Validation Accuracy Graphs')"
            ]
          },
          "metadata": {},
          "execution_count": 55
        },
        {
          "output_type": "display_data",
          "data": {
            "image/png": "[encoded data removed]",
            "text/plain": [
              "<Figure size 864x432 with 1 Axes>"
            ]
          },
          "metadata": {
            "needs_background": "light"
          }
        }
      ]
    },
    {
      "cell_type": "code",
      "metadata": {
        "id": "bTH7dc76s5U7"
      },
      "source": [
        ""
      ],
      "execution_count": null,
      "outputs": []
    }
  ]
}